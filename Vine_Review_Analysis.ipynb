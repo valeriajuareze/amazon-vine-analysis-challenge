{
  "nbformat": 4,
  "nbformat_minor": 0,
  "metadata": {
    "colab": {
      "provenance": []
    },
    "kernelspec": {
      "name": "python3",
      "display_name": "Python 3"
    },
    "language_info": {
      "name": "python"
    }
  },
  "cells": [
    {
      "cell_type": "code",
      "execution_count": 1,
      "metadata": {
        "id": "dbnwpb-LUsKS",
        "colab": {
          "base_uri": "https://localhost:8080/"
        },
        "outputId": "072704ed-2200-4f8c-e200-33c4ff812556"
      },
      "outputs": [
        {
          "output_type": "stream",
          "name": "stdout",
          "text": [
            "\r0% [Working]\r            \rHit:1 http://archive.ubuntu.com/ubuntu bionic InRelease\n",
            "\r0% [Connecting to security.ubuntu.com (185.125.190.39)] [Connected to cloud.r-p\r                                                                               \rGet:2 http://archive.ubuntu.com/ubuntu bionic-updates InRelease [88.7 kB]\n",
            "\r                                                                               \rGet:3 https://cloud.r-project.org/bin/linux/ubuntu bionic-cran40/ InRelease [3,626 B]\n",
            "Get:4 http://archive.ubuntu.com/ubuntu bionic-backports InRelease [83.3 kB]\n",
            "Get:5 http://ppa.launchpad.net/c2d4u.team/c2d4u4.0+/ubuntu bionic InRelease [15.9 kB]\n",
            "Get:6 http://security.ubuntu.com/ubuntu bionic-security InRelease [88.7 kB]\n",
            "Ign:7 https://developer.download.nvidia.com/compute/machine-learning/repos/ubuntu1804/x86_64  InRelease\n",
            "Get:8 https://developer.download.nvidia.com/compute/cuda/repos/ubuntu1804/x86_64  InRelease [1,581 B]\n",
            "Hit:9 https://developer.download.nvidia.com/compute/machine-learning/repos/ubuntu1804/x86_64  Release\n",
            "Hit:10 http://ppa.launchpad.net/cran/libgit2/ubuntu bionic InRelease\n",
            "Hit:11 http://ppa.launchpad.net/deadsnakes/ppa/ubuntu bionic InRelease\n",
            "Get:12 http://archive.ubuntu.com/ubuntu bionic-updates/restricted amd64 Packages [1,248 kB]\n",
            "Hit:13 http://ppa.launchpad.net/graphics-drivers/ppa/ubuntu bionic InRelease\n",
            "Get:14 http://archive.ubuntu.com/ubuntu bionic-updates/universe amd64 Packages [2,332 kB]\n",
            "Get:15 http://archive.ubuntu.com/ubuntu bionic-updates/main amd64 Packages [3,467 kB]\n",
            "Get:16 https://developer.download.nvidia.com/compute/cuda/repos/ubuntu1804/x86_64  Packages [983 kB]\n",
            "Get:17 http://ppa.launchpad.net/c2d4u.team/c2d4u4.0+/ubuntu bionic/main Sources [2,165 kB]\n",
            "Get:19 http://security.ubuntu.com/ubuntu bionic-security/main amd64 Packages [3,035 kB]\n",
            "Get:20 http://ppa.launchpad.net/c2d4u.team/c2d4u4.0+/ubuntu bionic/main amd64 Packages [1,109 kB]\n",
            "Get:21 http://security.ubuntu.com/ubuntu bionic-security/universe amd64 Packages [1,554 kB]\n",
            "Get:22 http://security.ubuntu.com/ubuntu bionic-security/restricted amd64 Packages [1,208 kB]\n",
            "Fetched 17.4 MB in 3s (6,668 kB/s)\n",
            "Reading package lists... Done\n"
          ]
        }
      ],
      "source": [
        "import os\n",
        "# Find the latest version of spark 3.0  from http://www.apache.org/dist/spark/ and enter as the spark version\n",
        "# For example:\n",
        "# spark_version = 'spark-3.0.3'\n",
        "spark_version = 'spark-3.3.0'\n",
        "os.environ['SPARK_VERSION']=spark_version\n",
        "\n",
        "# Install Spark and Java\n",
        "!apt-get update\n",
        "!apt-get install openjdk-11-jdk-headless -qq > /dev/null\n",
        "!wget -q http://www.apache.org/dist/spark/$SPARK_VERSION/$SPARK_VERSION-bin-hadoop3.tgz\n",
        "!tar xf $SPARK_VERSION-bin-hadoop3.tgz\n",
        "!pip install -q findspark\n",
        "\n",
        "# Set Environment Variables\n",
        "os.environ[\"JAVA_HOME\"] = \"/usr/lib/jvm/java-11-openjdk-amd64\"\n",
        "os.environ[\"SPARK_HOME\"] = f\"/content/{spark_version}-bin-hadoop3\"\n",
        "\n",
        "# Start a SparkSession\n",
        "import findspark\n",
        "findspark.init()"
      ]
    },
    {
      "cell_type": "code",
      "source": [
        "# Download the Postgres driver that will allow Spark to interact with Postgres.\n",
        "!wget https://jdbc.postgresql.org/download/postgresql-42.2.16.jar"
      ],
      "metadata": {
        "colab": {
          "base_uri": "https://localhost:8080/"
        },
        "id": "7hYltzUCU90p",
        "outputId": "b64eaf1e-572f-493e-f00c-4ec3b661d7f0"
      },
      "execution_count": 2,
      "outputs": [
        {
          "output_type": "stream",
          "name": "stdout",
          "text": [
            "--2022-10-19 17:39:56--  https://jdbc.postgresql.org/download/postgresql-42.2.16.jar\n",
            "Resolving jdbc.postgresql.org (jdbc.postgresql.org)... 72.32.157.228, 2001:4800:3e1:1::228\n",
            "Connecting to jdbc.postgresql.org (jdbc.postgresql.org)|72.32.157.228|:443... connected.\n",
            "HTTP request sent, awaiting response... 200 OK\n",
            "Length: 1002883 (979K) [application/java-archive]\n",
            "Saving to: ‘postgresql-42.2.16.jar’\n",
            "\n",
            "postgresql-42.2.16. 100%[===================>] 979.38K  5.36MB/s    in 0.2s    \n",
            "\n",
            "2022-10-19 17:39:56 (5.36 MB/s) - ‘postgresql-42.2.16.jar’ saved [1002883/1002883]\n",
            "\n"
          ]
        }
      ]
    },
    {
      "cell_type": "code",
      "source": [
        "# Start a Spark Session. \n",
        "from pyspark.sql import SparkSession\n",
        "spark = SparkSession.builder.appName(\"BigData-Challenge\").config(\"spark.driver.extraClassPath\",\"/content/postgresql-42.2.16.jar\").getOrCreate()"
      ],
      "metadata": {
        "id": "IkAumeyZVBmY"
      },
      "execution_count": 3,
      "outputs": []
    },
    {
      "cell_type": "code",
      "source": [
        "from pyspark import SparkFiles\n",
        "url = \"https://s3.amazonaws.com/amazon-reviews-pds/tsv/amazon_reviews_us_Books_v1_01.tsv.gz\"\n",
        "spark.sparkContext.addFile(url)"
      ],
      "metadata": {
        "id": "Z7aQ9OQTVBpU"
      },
      "execution_count": 4,
      "outputs": []
    },
    {
      "cell_type": "code",
      "source": [
        "from pyspark.sql.functions import to_date\n",
        "# Read in the Review dataset as a DataFrame\n",
        "\n",
        "reviews_books_df = spark.read.option(\"encoding\", \"UTF-8\").csv(SparkFiles.get(\"\"), sep=\"\\t\", header=True, inferSchema=True)\n",
        "reviews_books_df.show()"
      ],
      "metadata": {
        "colab": {
          "base_uri": "https://localhost:8080/"
        },
        "id": "bOYavuiTVBto",
        "outputId": "8172cc74-9338-434c-d872-45893e5cff30"
      },
      "execution_count": 5,
      "outputs": [
        {
          "output_type": "stream",
          "name": "stdout",
          "text": [
            "+-----------+-----------+--------------+----------+--------------+--------------------+----------------+-----------+-------------+-----------+----+-----------------+--------------------+--------------------+-------------------+\n",
            "|marketplace|customer_id|     review_id|product_id|product_parent|       product_title|product_category|star_rating|helpful_votes|total_votes|vine|verified_purchase|     review_headline|         review_body|        review_date|\n",
            "+-----------+-----------+--------------+----------+--------------+--------------------+----------------+-----------+-------------+-----------+----+-----------------+--------------------+--------------------+-------------------+\n",
            "|         US|   22480053|R28HBXXO1UEVJT|0843952016|      34858117|          The Rising|           Books|          5|            0|          0|   N|                N|Great Twist on Zo...|I've known about ...|2012-05-03 00:00:00|\n",
            "|         US|   44244451| RZKRFS2UUMFFU|031088926X|     676347131|Sticky Faith Teen...|           Books|          5|           15|         15|   N|                Y|Helpful and Pract...|The student curri...|2012-05-03 00:00:00|\n",
            "|         US|   20357422|R2WAU9MD9K6JQA|0615268102|     763837025|Black Passenger Y...|           Books|          3|            6|          8|   N|                N|                Paul|I found \\\\\"Black ...|2012-05-03 00:00:00|\n",
            "|         US|   13235208|R36SCTKYTVPZPC|1900869225|     785539232|Direction and Des...|           Books|          5|           10|         11|   N|                Y|Direction and Des...|Sasportas is a br...|2012-05-03 00:00:00|\n",
            "|         US|   26301786|R10BM6JUOJX27Q|1565129938|      64646125| Until the Next Time|           Books|          3|            0|          0|   Y|                N|       This was Okay|I wanted to love ...|2012-05-03 00:00:00|\n",
            "|         US|   27780192| RCLZ5OKZNUSY4|146854456X|     270349766| Unfinished Business|           Books|          5|            0|          0|   N|                Y|   Excellent read!!!|What an exciting ...|2012-05-03 00:00:00|\n",
            "|         US|   13041546|R1S65DJYEI89G4|1118094514|     752141158|The Republican Br...|           Books|          4|            8|         17|   N|                N|A must read for s...|This book is exce...|2012-05-03 00:00:00|\n",
            "|         US|   51692331|R3KQYBQOLYDETV|0563521147|     729491316|Good Food: 101 Ca...|           Books|          4|            2|          2|   N|                N|   Chocoholic heaven|If you are on a d...|2012-05-03 00:00:00|\n",
            "|         US|   23108524|R3QV8K7CSU8K2W|0669444421|     261004015|Patterns and Quil...|           Books|          5|            0|          0|   N|                N|Quilt Art Project...|Written by quilt ...|2012-05-03 00:00:00|\n",
            "|         US|   51692331|R3W5A1WUGO5VQ0|1897784457|     497876045|Practical Food Sm...|           Books|          4|            0|          1|   N|                N|         A good read|Food smoking has ...|2012-05-03 00:00:00|\n",
            "|         US|   49438248|R20AQCY3FMBVN5|0316738158|     691490916|The Big Love: A N...|           Books|          5|            0|          0|   N|                N|One of my favorites!|This is one of my...|2012-05-03 00:00:00|\n",
            "|         US|   11818020| R7KY8VL871MVL|0738730440|     544176812|Around the Tarot ...|           Books|          5|           13|         15|   N|                Y|A must for tarot ...|I have been waiti...|2012-05-03 00:00:00|\n",
            "|         US|   51692331| RHF5E4UOL5LQ3|1902842286|     698916699|Favourite Apple R...|           Books|          5|            2|          2|   N|                N|  A good little book|Jane Austen said ...|2012-05-03 00:00:00|\n",
            "|         US|   29446920|R1LMUDN5M9G6ZZ|1465399577|     922463098|       Kevin and Tak|           Books|          5|            0|          0|   N|                N|            so great|I felt this was a...|2012-05-03 00:00:00|\n",
            "|         US|   33284115| RNGA47KD4CEB8|0061934704|     740765152|Opium Nation: Chi...|           Books|          5|            0|          0|   N|                N|Knowing Afghanist...|Fariba Nawa, desc...|2012-05-03 00:00:00|\n",
            "|         US|   44728718|R33MYHP5RY1139|1432729039|     116349266|        True to Life|           Books|          5|            3|          3|   N|                N|Modern poetry tha...|For many, reading...|2012-05-03 00:00:00|\n",
            "|         US|   52534548|R18VIM840CEFRP|1621360075|     143884185|The Real Kosher J...|           Books|          1|           16|        105|   N|                N|                 SLH|I'm sorry, but ca...|2012-05-03 00:00:00|\n",
            "|         US|   37836302| RQOZBXX7M0U6H|097723732X|     106641033|Idioms Go To The ...|           Books|          5|            0|          0|   N|                N|         Great book!|The (slightly) ea...|2012-05-03 00:00:00|\n",
            "|         US|   38588903|R3SH84TAORQP2T|0983945209|     377432437|Elsie -  Adventur...|           Books|          5|            3|          3|   N|                N|      Terrific Book!|By Den Adler<br /...|2012-05-03 00:00:00|\n",
            "|         US|   49148452| RL1OHWOHPM7RO|1419701630|     307676830|Chuck Close: Face...|           Books|          5|            8|          9|   N|                N|  Close and personal|The autobiography...|2012-05-03 00:00:00|\n",
            "+-----------+-----------+--------------+----------+--------------+--------------------+----------------+-----------+-------------+-----------+----+-----------------+--------------------+--------------------+-------------------+\n",
            "only showing top 20 rows\n",
            "\n"
          ]
        }
      ]
    },
    {
      "cell_type": "code",
      "source": [
        "# Create the vine_table DataFrame.\n",
        "\n",
        "vine_df= reviews_books_df.select([\"review_id\", \"star_rating\", \"helpful_votes\", \"total_votes\", \"vine\", \"verified_purchase\"])\n",
        "vine_df.show()"
      ],
      "metadata": {
        "colab": {
          "base_uri": "https://localhost:8080/"
        },
        "id": "29r1Ar_QVVjP",
        "outputId": "69bae44e-3e68-43f2-f730-cdf9be7324aa"
      },
      "execution_count": 6,
      "outputs": [
        {
          "output_type": "stream",
          "name": "stdout",
          "text": [
            "+--------------+-----------+-------------+-----------+----+-----------------+\n",
            "|     review_id|star_rating|helpful_votes|total_votes|vine|verified_purchase|\n",
            "+--------------+-----------+-------------+-----------+----+-----------------+\n",
            "|R28HBXXO1UEVJT|          5|            0|          0|   N|                N|\n",
            "| RZKRFS2UUMFFU|          5|           15|         15|   N|                Y|\n",
            "|R2WAU9MD9K6JQA|          3|            6|          8|   N|                N|\n",
            "|R36SCTKYTVPZPC|          5|           10|         11|   N|                Y|\n",
            "|R10BM6JUOJX27Q|          3|            0|          0|   Y|                N|\n",
            "| RCLZ5OKZNUSY4|          5|            0|          0|   N|                Y|\n",
            "|R1S65DJYEI89G4|          4|            8|         17|   N|                N|\n",
            "|R3KQYBQOLYDETV|          4|            2|          2|   N|                N|\n",
            "|R3QV8K7CSU8K2W|          5|            0|          0|   N|                N|\n",
            "|R3W5A1WUGO5VQ0|          4|            0|          1|   N|                N|\n",
            "|R20AQCY3FMBVN5|          5|            0|          0|   N|                N|\n",
            "| R7KY8VL871MVL|          5|           13|         15|   N|                Y|\n",
            "| RHF5E4UOL5LQ3|          5|            2|          2|   N|                N|\n",
            "|R1LMUDN5M9G6ZZ|          5|            0|          0|   N|                N|\n",
            "| RNGA47KD4CEB8|          5|            0|          0|   N|                N|\n",
            "|R33MYHP5RY1139|          5|            3|          3|   N|                N|\n",
            "|R18VIM840CEFRP|          1|           16|        105|   N|                N|\n",
            "| RQOZBXX7M0U6H|          5|            0|          0|   N|                N|\n",
            "|R3SH84TAORQP2T|          5|            3|          3|   N|                N|\n",
            "| RL1OHWOHPM7RO|          5|            8|          9|   N|                N|\n",
            "+--------------+-----------+-------------+-----------+----+-----------------+\n",
            "only showing top 20 rows\n",
            "\n"
          ]
        }
      ]
    },
    {
      "cell_type": "code",
      "source": [
        "total_votes_df= vine_df.filter(\"total_votes >=20\")\n",
        "total_votes_df.show()"
      ],
      "metadata": {
        "colab": {
          "base_uri": "https://localhost:8080/"
        },
        "id": "3Czh9WA0WH6n",
        "outputId": "aa5178a4-e84b-45a6-f8ba-459a6bfa4d23"
      },
      "execution_count": 14,
      "outputs": [
        {
          "output_type": "stream",
          "name": "stdout",
          "text": [
            "+--------------+-----------+-------------+-----------+----+-----------------+\n",
            "|     review_id|star_rating|helpful_votes|total_votes|vine|verified_purchase|\n",
            "+--------------+-----------+-------------+-----------+----+-----------------+\n",
            "|R18VIM840CEFRP|          1|           16|        105|   N|                N|\n",
            "|R14PMAJTY0EAAT|          4|          135|        142|   N|                Y|\n",
            "|R1363VA3TPNLVB|          5|          370|        388|   N|                Y|\n",
            "| RBQZC5A3TSWT5|          5|           11|         22|   N|                Y|\n",
            "| RW00TDPV9U93E|          1|           35|         76|   N|                N|\n",
            "|R3OW0AIVLEDIQ7|          3|           99|        121|   N|                N|\n",
            "|R3DTESO4FUAPKQ|          5|           90|        102|   N|                N|\n",
            "|R18I0XBYWFSR5T|          1|           16|         50|   N|                N|\n",
            "|R1VSQ3QK30VDI0|          5|           23|         35|   N|                N|\n",
            "|R3NEJBF4FXMVUU|          5|           87|         90|   N|                Y|\n",
            "|R34ZTQTHWRHT5R|          5|           18|         20|   N|                Y|\n",
            "|R367X555006ROC|          1|           39|         44|   N|                N|\n",
            "| R4NCMAZCRAXHT|          3|           19|         21|   N|                N|\n",
            "|R1WQJ6BTGTJNHM|          3|            6|         47|   N|                N|\n",
            "|R33JIVA97UYKH2|          2|           23|         29|   N|                Y|\n",
            "| RSD6TF0E24D9P|          5|           30|         34|   N|                Y|\n",
            "|R2DLFW0GMIFTKP|          5|           53|         58|   N|                Y|\n",
            "| RQZ638E0E34Z3|          2|          259|        299|   N|                N|\n",
            "|R2RP1D1I036Q6C|          1|           20|         34|   N|                N|\n",
            "|R3TJPP6SLHXO41|          1|           16|         27|   N|                Y|\n",
            "+--------------+-----------+-------------+-----------+----+-----------------+\n",
            "only showing top 20 rows\n",
            "\n"
          ]
        }
      ]
    },
    {
      "cell_type": "code",
      "source": [
        "helpful_votes_df= total_votes_df.filter(\"helpful_votes / total_votes >= .5\")\n",
        "helpful_votes_df.show()"
      ],
      "metadata": {
        "colab": {
          "base_uri": "https://localhost:8080/"
        },
        "id": "rJeQwoM_YbDl",
        "outputId": "25f0137c-98bd-4058-93e0-53c3876a5934"
      },
      "execution_count": 21,
      "outputs": [
        {
          "output_type": "stream",
          "name": "stdout",
          "text": [
            "+--------------+-----------+-------------+-----------+----+-----------------+\n",
            "|     review_id|star_rating|helpful_votes|total_votes|vine|verified_purchase|\n",
            "+--------------+-----------+-------------+-----------+----+-----------------+\n",
            "|R14PMAJTY0EAAT|          4|          135|        142|   N|                Y|\n",
            "|R1363VA3TPNLVB|          5|          370|        388|   N|                Y|\n",
            "| RBQZC5A3TSWT5|          5|           11|         22|   N|                Y|\n",
            "|R3OW0AIVLEDIQ7|          3|           99|        121|   N|                N|\n",
            "|R3DTESO4FUAPKQ|          5|           90|        102|   N|                N|\n",
            "|R1VSQ3QK30VDI0|          5|           23|         35|   N|                N|\n",
            "|R3NEJBF4FXMVUU|          5|           87|         90|   N|                Y|\n",
            "|R34ZTQTHWRHT5R|          5|           18|         20|   N|                Y|\n",
            "|R367X555006ROC|          1|           39|         44|   N|                N|\n",
            "| R4NCMAZCRAXHT|          3|           19|         21|   N|                N|\n",
            "|R33JIVA97UYKH2|          2|           23|         29|   N|                Y|\n",
            "| RSD6TF0E24D9P|          5|           30|         34|   N|                Y|\n",
            "|R2DLFW0GMIFTKP|          5|           53|         58|   N|                Y|\n",
            "| RQZ638E0E34Z3|          2|          259|        299|   N|                N|\n",
            "|R2RP1D1I036Q6C|          1|           20|         34|   N|                N|\n",
            "|R3TJPP6SLHXO41|          1|           16|         27|   N|                Y|\n",
            "|R2DK25C3UOICDC|          5|           13|         22|   N|                N|\n",
            "|R3LWNR7QFH1P0U|          1|           18|         24|   N|                N|\n",
            "|R32X7O6DKBEXM0|          5|           25|         26|   N|                N|\n",
            "|R16VVIH03CTRHB|          5|           16|         25|   N|                Y|\n",
            "+--------------+-----------+-------------+-----------+----+-----------------+\n",
            "only showing top 20 rows\n",
            "\n"
          ]
        }
      ]
    },
    {
      "cell_type": "code",
      "source": [
        "vine_votes_df= helpful_votes_df.filter(helpful_votes_df.vine == \"Y\")\n",
        "vine_votes_df.show()"
      ],
      "metadata": {
        "colab": {
          "base_uri": "https://localhost:8080/"
        },
        "id": "MdCiD7MNZ6hH",
        "outputId": "74d341da-8d3a-4cbe-edc5-2c57d4d13c82"
      },
      "execution_count": 27,
      "outputs": [
        {
          "output_type": "stream",
          "name": "stdout",
          "text": [
            "+--------------+-----------+-------------+-----------+----+-----------------+\n",
            "|     review_id|star_rating|helpful_votes|total_votes|vine|verified_purchase|\n",
            "+--------------+-----------+-------------+-----------+----+-----------------+\n",
            "|R2Z8083V8ZFQVZ|          3|           82|         87|   Y|                N|\n",
            "| RK25TAO4GGS5G|          3|           22|         24|   Y|                N|\n",
            "|R2SJQG3C6KY0M8|          3|           18|         20|   Y|                N|\n",
            "|R12CHC0CB2WASU|          5|           43|         48|   Y|                N|\n",
            "|R2RY328TIDXMTE|          2|           50|         61|   Y|                N|\n",
            "|R3K8OQU4PEP8W7|          4|           40|         46|   Y|                N|\n",
            "|R1JI1A7JT99538|          3|           28|         40|   Y|                N|\n",
            "|R247K3K5SVPJUL|          3|           15|         20|   Y|                N|\n",
            "|R27UEUDUYPLXZC|          5|           20|         24|   Y|                N|\n",
            "|R2QQDNBYDIEL9F|          5|           35|         41|   Y|                N|\n",
            "|R26ELQU09IPX5K|          2|           11|         21|   Y|                N|\n",
            "| RSKUR90HGW6PY|          3|           34|         54|   Y|                N|\n",
            "|R1W7MQRB02CRG8|          4|           20|         22|   Y|                N|\n",
            "|R3LJN6BQL2F0BR|          1|           28|         34|   Y|                N|\n",
            "|R3FO8YQ2BKL1RG|          5|           93|         94|   Y|                N|\n",
            "|R27HEI4FN6TZQ7|          3|           20|         27|   Y|                N|\n",
            "|R3DRE8T4NTEWNV|          5|           28|         28|   Y|                N|\n",
            "|R33G38RMCEXIVD|          4|           28|         29|   Y|                N|\n",
            "|R2ZD6GIDCKAJNM|          5|          118|        139|   Y|                N|\n",
            "|R3DKQQNX6X3VTU|          4|           53|         56|   Y|                N|\n",
            "+--------------+-----------+-------------+-----------+----+-----------------+\n",
            "only showing top 20 rows\n",
            "\n"
          ]
        }
      ]
    },
    {
      "cell_type": "code",
      "source": [
        "no_vine_votes_df= helpful_votes_df.filter(helpful_votes_df.vine == \"N\")\n",
        "no_vine_votes_df.show()"
      ],
      "metadata": {
        "colab": {
          "base_uri": "https://localhost:8080/"
        },
        "id": "3oT-y0mKat3x",
        "outputId": "341e3810-174d-4804-b5c6-459380ec6009"
      },
      "execution_count": 28,
      "outputs": [
        {
          "output_type": "stream",
          "name": "stdout",
          "text": [
            "+--------------+-----------+-------------+-----------+----+-----------------+\n",
            "|     review_id|star_rating|helpful_votes|total_votes|vine|verified_purchase|\n",
            "+--------------+-----------+-------------+-----------+----+-----------------+\n",
            "|R14PMAJTY0EAAT|          4|          135|        142|   N|                Y|\n",
            "|R1363VA3TPNLVB|          5|          370|        388|   N|                Y|\n",
            "| RBQZC5A3TSWT5|          5|           11|         22|   N|                Y|\n",
            "|R3OW0AIVLEDIQ7|          3|           99|        121|   N|                N|\n",
            "|R3DTESO4FUAPKQ|          5|           90|        102|   N|                N|\n",
            "|R1VSQ3QK30VDI0|          5|           23|         35|   N|                N|\n",
            "|R3NEJBF4FXMVUU|          5|           87|         90|   N|                Y|\n",
            "|R34ZTQTHWRHT5R|          5|           18|         20|   N|                Y|\n",
            "|R367X555006ROC|          1|           39|         44|   N|                N|\n",
            "| R4NCMAZCRAXHT|          3|           19|         21|   N|                N|\n",
            "|R33JIVA97UYKH2|          2|           23|         29|   N|                Y|\n",
            "| RSD6TF0E24D9P|          5|           30|         34|   N|                Y|\n",
            "|R2DLFW0GMIFTKP|          5|           53|         58|   N|                Y|\n",
            "| RQZ638E0E34Z3|          2|          259|        299|   N|                N|\n",
            "|R2RP1D1I036Q6C|          1|           20|         34|   N|                N|\n",
            "|R3TJPP6SLHXO41|          1|           16|         27|   N|                Y|\n",
            "|R2DK25C3UOICDC|          5|           13|         22|   N|                N|\n",
            "|R3LWNR7QFH1P0U|          1|           18|         24|   N|                N|\n",
            "|R32X7O6DKBEXM0|          5|           25|         26|   N|                N|\n",
            "|R16VVIH03CTRHB|          5|           16|         25|   N|                Y|\n",
            "+--------------+-----------+-------------+-----------+----+-----------------+\n",
            "only showing top 20 rows\n",
            "\n"
          ]
        }
      ]
    },
    {
      "cell_type": "markdown",
      "source": [
        "## **Paid Reviews**"
      ],
      "metadata": {
        "id": "OVDkS610dxYO"
      }
    },
    {
      "cell_type": "code",
      "source": [
        "total_votes_v= vine_votes_df.count()\n",
        "total_votes_v"
      ],
      "metadata": {
        "colab": {
          "base_uri": "https://localhost:8080/"
        },
        "id": "Xyi0GuRMa2G7",
        "outputId": "2ca20c4f-ab18-468d-aeaa-90709ca05f71"
      },
      "execution_count": 37,
      "outputs": [
        {
          "output_type": "execute_result",
          "data": {
            "text/plain": [
              "4781"
            ]
          },
          "metadata": {},
          "execution_count": 37
        }
      ]
    },
    {
      "cell_type": "code",
      "source": [
        "five_star_reviews_v = vine_votes_df.filter(\"star_rating == 5\").count()\n",
        "five_star_reviews_v"
      ],
      "metadata": {
        "colab": {
          "base_uri": "https://localhost:8080/"
        },
        "id": "yXRRAmpMbw2f",
        "outputId": "e71ed3e8-6066-40fc-ce81-afd2f70e08dd"
      },
      "execution_count": 36,
      "outputs": [
        {
          "output_type": "execute_result",
          "data": {
            "text/plain": [
              "1604"
            ]
          },
          "metadata": {},
          "execution_count": 36
        }
      ]
    },
    {
      "cell_type": "code",
      "source": [
        "pg_five_star_review_v = (five_star_reviews_v/total_votes_v )* 100 \n",
        "pg_five_star_review_v"
      ],
      "metadata": {
        "colab": {
          "base_uri": "https://localhost:8080/"
        },
        "id": "u8z-P7Cva2Wq",
        "outputId": "13bd4930-6c97-47b0-87e6-5af4f99b1d48"
      },
      "execution_count": 41,
      "outputs": [
        {
          "output_type": "execute_result",
          "data": {
            "text/plain": [
              "33.5494666387785"
            ]
          },
          "metadata": {},
          "execution_count": 41
        }
      ]
    },
    {
      "cell_type": "markdown",
      "source": [
        "## **Unpaid Reviews**"
      ],
      "metadata": {
        "id": "-XN-p7aKd5_8"
      }
    },
    {
      "cell_type": "code",
      "source": [
        "total_votes_nv= no_vine_votes_df.count()\n",
        "total_votes_nv"
      ],
      "metadata": {
        "colab": {
          "base_uri": "https://localhost:8080/"
        },
        "id": "U1W1X8xOa2Qe",
        "outputId": "d92972d7-1054-41ce-b407-157513666e6d"
      },
      "execution_count": 39,
      "outputs": [
        {
          "output_type": "execute_result",
          "data": {
            "text/plain": [
              "332395"
            ]
          },
          "metadata": {},
          "execution_count": 39
        }
      ]
    },
    {
      "cell_type": "code",
      "source": [
        "five_star_reviews_nv= no_vine_votes_df.filter(\"star_rating == 5\").count()\n",
        "five_star_reviews_nv"
      ],
      "metadata": {
        "colab": {
          "base_uri": "https://localhost:8080/"
        },
        "id": "XaMOfpKYa2Tc",
        "outputId": "cb4dd8bb-222c-4df0-9bd5-245832377682"
      },
      "execution_count": 40,
      "outputs": [
        {
          "output_type": "execute_result",
          "data": {
            "text/plain": [
              "168800"
            ]
          },
          "metadata": {},
          "execution_count": 40
        }
      ]
    },
    {
      "cell_type": "code",
      "source": [
        "pg_five_star_review_nv = (five_star_reviews_nv/total_votes_nv )* 100 \n",
        "pg_five_star_review_nv"
      ],
      "metadata": {
        "colab": {
          "base_uri": "https://localhost:8080/"
        },
        "id": "AHl74zFwc_ZO",
        "outputId": "ba57ca8c-6613-4219-bc65-22e23a5d28a5"
      },
      "execution_count": 42,
      "outputs": [
        {
          "output_type": "execute_result",
          "data": {
            "text/plain": [
              "50.782954015553784"
            ]
          },
          "metadata": {},
          "execution_count": 42
        }
      ]
    }
  ]
}